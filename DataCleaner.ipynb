{
 "cells": [
  {
   "cell_type": "code",
   "execution_count": 2,
   "id": "c7925c71",
   "metadata": {},
   "outputs": [],
   "source": [
    "# Import the raw data from Live Coin Watch and initialize the dataframe.\n"
   ]
  },
  {
   "cell_type": "code",
   "execution_count": 3,
   "id": "63527145",
   "metadata": {},
   "outputs": [],
   "source": [
    "import re # Regular expressions\n",
    "import pandas as pd # Dataframe module\n",
    "import numpy as np # Math module\n",
    "from datetime import datetime # Date conversions \n",
    "\n",
    "with open(\"data/test_data.txt\",\"r\") as data_file: # \"with\" closes the file automatically.\n",
    "    lines = data_file.readlines()\n",
    "    \n",
    "data_headers = ['date', 'rate', 'volume', 'cap']\n",
    "\n",
    "df = pd.DataFrame(columns=data_headers)  "
   ]
  },
  {
   "cell_type": "code",
   "execution_count": 4,
   "id": "1c2d96ce",
   "metadata": {},
   "outputs": [],
   "source": [
    "# Extract the relevant information from the raw data and store in the dataframe.\n",
    "# Note that 'rate' refers to price. For example, 42306 would be $423.06"
   ]
  },
  {
   "cell_type": "code",
   "execution_count": 5,
   "id": "32972c10",
   "metadata": {},
   "outputs": [],
   "source": [
    "count = 0\n",
    "for line in lines:\n",
    "    count+= 1\n",
    "    line_trunc = \" \".join(line.strip().split()[1:3])\n",
    "    indicator = re.compile('\\d+:.*.*date:')\n",
    "    result = indicator.search(line_trunc)\n",
    "    if result != None:\n",
    "        \n",
    "        # Extract date, rate, volume, cap from this line of data.\n",
    "        row = []\n",
    "        for header in data_headers:\n",
    "            header_pattern = re.compile('%s:.\\d+' % header)\n",
    "            try:\n",
    "                row.append(header_pattern.search(line).group())\n",
    "            except AttributeError:\n",
    "                print(\"Something's gone wrong with pattern matching the date, rate, volume, and cap...\")\n",
    "                print(\"Data line %s content: %s\" % (count, line))\n",
    "        row = [x.split()[1] for x in row]\n",
    "        row = pd.Series(row, index = df.columns)\n",
    "        df = df.append(row, ignore_index = True)"
   ]
  },
  {
   "cell_type": "code",
   "execution_count": 6,
   "id": "1269c430",
   "metadata": {},
   "outputs": [],
   "source": [
    "# Convert unix timestamps in milliseconds to a human readable format and store in a new column."
   ]
  },
  {
   "cell_type": "code",
   "execution_count": 7,
   "id": "554d4927",
   "metadata": {},
   "outputs": [],
   "source": [
    "df['date readable'] = [datetime.utcfromtimestamp(int(x)/1000).strftime('%Y-%m-%d %H:%M:%S') for x in df['date']]"
   ]
  },
  {
   "cell_type": "code",
   "execution_count": 8,
   "id": "35fbab72",
   "metadata": {},
   "outputs": [],
   "source": [
    "# Calculate rates of change for each point."
   ]
  },
  {
   "cell_type": "code",
   "execution_count": 42,
   "id": "3053aa0e",
   "metadata": {},
   "outputs": [
    {
     "name": "stdout",
     "output_type": "stream",
     "text": [
      "302\n",
      "302\n"
     ]
    }
   ],
   "source": [
    "# Calculates rates of change per 24 hour period\n",
    "#     using values averaged over the given window\n",
    "# Data must be a pandas dataframe with \"rate\" and \"date\" columns.\n",
    "# Window must be an integer.\n",
    "def calculate_rate_of_change(data, window):\n",
    "    deltas = []\n",
    "    index = 0\n",
    "    for x in data['rate']:\n",
    "        if index >= len(data)-window:\n",
    "            pass\n",
    "        else:\n",
    "            current_average = 0\n",
    "            next_average = 0\n",
    "            for y in range(0, window):\n",
    "                current_average += int(data['rate'][y])\n",
    "                next_next_average = int(data['rate'][window + y])\n",
    "\n",
    "            current_average = current_average / window\n",
    "            next_average = next_average / window\n",
    "            \n",
    "            current_date = int(df['date'][index])\n",
    "            next_date = int(df['date'][index+1])\n",
    "            \n",
    "            time_diff_in_days = (next_date - current_date) / 86400000 # assumes unix timestamps are in milliseconds\n",
    "            deltas.append((next_average - current_average) / time_diff_in_days)\n",
    "            index += 1\n",
    "    for i in range(0, window):\n",
    "        deltas.append(deltas[len(data)-window-1])\n",
    "    return deltas\n",
    "\n",
    "deltas = calculate_rate_of_change(df, 1)\n",
    "\n",
    "\n",
    "df['rates of change'] = deltas\n",
    "            "
   ]
  },
  {
   "cell_type": "code",
   "execution_count": 43,
   "id": "7d1b7ca7",
   "metadata": {},
   "outputs": [
    {
     "data": {
      "text/html": [
       "<div>\n",
       "<style scoped>\n",
       "    .dataframe tbody tr th:only-of-type {\n",
       "        vertical-align: middle;\n",
       "    }\n",
       "\n",
       "    .dataframe tbody tr th {\n",
       "        vertical-align: top;\n",
       "    }\n",
       "\n",
       "    .dataframe thead th {\n",
       "        text-align: right;\n",
       "    }\n",
       "</style>\n",
       "<table border=\"1\" class=\"dataframe\">\n",
       "  <thead>\n",
       "    <tr style=\"text-align: right;\">\n",
       "      <th></th>\n",
       "      <th>date</th>\n",
       "      <th>rate</th>\n",
       "      <th>volume</th>\n",
       "      <th>cap</th>\n",
       "      <th>date readable</th>\n",
       "      <th>rates of change</th>\n",
       "    </tr>\n",
       "  </thead>\n",
       "  <tbody>\n",
       "    <tr>\n",
       "      <th>0</th>\n",
       "      <td>1642106400000</td>\n",
       "      <td>42606</td>\n",
       "      <td>15884015374</td>\n",
       "      <td>806469865583</td>\n",
       "      <td>2022-01-13 20:40:00</td>\n",
       "      <td>-142680.55814</td>\n",
       "    </tr>\n",
       "    <tr>\n",
       "      <th>1</th>\n",
       "      <td>1642132200000</td>\n",
       "      <td>42700</td>\n",
       "      <td>34958610821</td>\n",
       "      <td>808262490748</td>\n",
       "      <td>2022-01-14 03:50:00</td>\n",
       "      <td>-142680.55814</td>\n",
       "    </tr>\n",
       "    <tr>\n",
       "      <th>2</th>\n",
       "      <td>1642158000000</td>\n",
       "      <td>42134</td>\n",
       "      <td>27334118224</td>\n",
       "      <td>797560503949</td>\n",
       "      <td>2022-01-14 11:00:00</td>\n",
       "      <td>-142680.55814</td>\n",
       "    </tr>\n",
       "    <tr>\n",
       "      <th>3</th>\n",
       "      <td>1642183800000</td>\n",
       "      <td>42957</td>\n",
       "      <td>20222197339</td>\n",
       "      <td>813139819925</td>\n",
       "      <td>2022-01-14 18:10:00</td>\n",
       "      <td>-142680.55814</td>\n",
       "    </tr>\n",
       "    <tr>\n",
       "      <th>4</th>\n",
       "      <td>1642209600000</td>\n",
       "      <td>43150</td>\n",
       "      <td>15015629680</td>\n",
       "      <td>816812254015</td>\n",
       "      <td>2022-01-15 01:20:00</td>\n",
       "      <td>-142680.55814</td>\n",
       "    </tr>\n",
       "  </tbody>\n",
       "</table>\n",
       "</div>"
      ],
      "text/plain": [
       "            date   rate       volume           cap        date readable  \\\n",
       "0  1642106400000  42606  15884015374  806469865583  2022-01-13 20:40:00   \n",
       "1  1642132200000  42700  34958610821  808262490748  2022-01-14 03:50:00   \n",
       "2  1642158000000  42134  27334118224  797560503949  2022-01-14 11:00:00   \n",
       "3  1642183800000  42957  20222197339  813139819925  2022-01-14 18:10:00   \n",
       "4  1642209600000  43150  15015629680  816812254015  2022-01-15 01:20:00   \n",
       "\n",
       "   rates of change  \n",
       "0    -142680.55814  \n",
       "1    -142680.55814  \n",
       "2    -142680.55814  \n",
       "3    -142680.55814  \n",
       "4    -142680.55814  "
      ]
     },
     "execution_count": 43,
     "metadata": {},
     "output_type": "execute_result"
    }
   ],
   "source": [
    "df.head()"
   ]
  },
  {
   "cell_type": "markdown",
   "id": "0818c4d6",
   "metadata": {},
   "source": []
  }
 ],
 "metadata": {
  "kernelspec": {
   "display_name": "Python 3 (ipykernel)",
   "language": "python",
   "name": "python3"
  },
  "language_info": {
   "codemirror_mode": {
    "name": "ipython",
    "version": 3
   },
   "file_extension": ".py",
   "mimetype": "text/x-python",
   "name": "python",
   "nbconvert_exporter": "python",
   "pygments_lexer": "ipython3",
   "version": "3.9.7"
  }
 },
 "nbformat": 4,
 "nbformat_minor": 5
}
